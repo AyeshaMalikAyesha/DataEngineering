{
  "nbformat": 4,
  "nbformat_minor": 0,
  "metadata": {
    "colab": {
      "provenance": [],
      "authorship_tag": "ABX9TyO+F4LIw+X6kbGpDObsl/Q3",
      "include_colab_link": true
    },
    "kernelspec": {
      "name": "python3",
      "display_name": "Python 3"
    },
    "language_info": {
      "name": "python"
    }
  },
  "cells": [
    {
      "cell_type": "markdown",
      "metadata": {
        "id": "view-in-github",
        "colab_type": "text"
      },
      "source": [
        "<a href=\"https://colab.research.google.com/github/AyeshaMalikAyesha/DataEngineering/blob/main/OOP_in_Python.ipynb\" target=\"_parent\"><img src=\"https://colab.research.google.com/assets/colab-badge.svg\" alt=\"Open In Colab\"/></a>"
      ]
    },
    {
      "cell_type": "markdown",
      "source": [
        "# OOP in Python"
      ],
      "metadata": {
        "id": "E9pz4L_UEnzZ"
      }
    },
    {
      "cell_type": "markdown",
      "source": [
        "At start we were doing procedural(sequential) programming,then comes the concept of function to increase reusability and reduce redundancy,then comes oop to reduce redundancy more.\n",
        "\n",
        "OOP is used to organize things systematically.\n",
        "\n",
        "procedural-->functional-->oop"
      ],
      "metadata": {
        "id": "sqCh-JG7Eson"
      }
    },
    {
      "cell_type": "markdown",
      "source": [
        "# Objects & Classes"
      ],
      "metadata": {
        "id": "nxm4PyI7E2gC"
      }
    },
    {
      "cell_type": "markdown",
      "source": [
        "Classes are blueprint of objects that contain data and methods and objects are instances of class."
      ],
      "metadata": {
        "id": "-e3SMOGLFrOT"
      }
    },
    {
      "cell_type": "code",
      "execution_count": null,
      "metadata": {
        "colab": {
          "base_uri": "https://localhost:8080/"
        },
        "id": "2Z6qWPnOEV0v",
        "outputId": "03579681-2083-4d52-b06a-6bf3877617e2"
      },
      "outputs": [
        {
          "output_type": "stream",
          "name": "stdout",
          "text": [
            "Ali\n"
          ]
        }
      ],
      "source": [
        "class Student:\n",
        "  name=\"Ali\"\n",
        "\n",
        "s1=Student()\n",
        "print(s1.name)"
      ]
    },
    {
      "cell_type": "markdown",
      "source": [
        "# Constructors"
      ],
      "metadata": {
        "id": "i0YwujKFHT2z"
      }
    },
    {
      "cell_type": "markdown",
      "source": [
        "All classes have init function which is always executed when object is created."
      ],
      "metadata": {
        "id": "ZMxjwD1VHXT1"
      }
    },
    {
      "cell_type": "code",
      "source": [
        "class Student:\n",
        "  # Class Attributes\n",
        "  school_name=\"HITEC\"\n",
        "  # Default Constructor\n",
        "  def __init__(self):\n",
        "    pass\n",
        "  #  Parametrized Constructor\n",
        "  def __init__(self,name,age):\n",
        "    # instance attributes\n",
        "    self.name=name\n",
        "    self.age=age\n",
        "\n",
        "s1=Student('Huzaifa','1')\n",
        "print(s1.name,s1.age,s1.school_name)"
      ],
      "metadata": {
        "colab": {
          "base_uri": "https://localhost:8080/"
        },
        "id": "isU_9W8kGqtl",
        "outputId": "253c1535-44e0-4a2c-822a-60c5aad35fb0"
      },
      "execution_count": null,
      "outputs": [
        {
          "output_type": "stream",
          "name": "stdout",
          "text": [
            "Huzaifa 1 HITEC\n"
          ]
        }
      ]
    },
    {
      "cell_type": "markdown",
      "source": [
        "# Class Attributes and Instance attributes"
      ],
      "metadata": {
        "id": "a1cJcP86IQx_"
      }
    },
    {
      "cell_type": "markdown",
      "source": [
        "Class attributes are shared across all instance of the class, as it is same for all objects so in order to conserve memory we make the attribut as class attribute and instacnce attributes belong to objects."
      ],
      "metadata": {
        "id": "3z-wHAAdIVLW"
      }
    },
    {
      "cell_type": "markdown",
      "source": [
        "# Self"
      ],
      "metadata": {
        "id": "a7hbu6bQJy7O"
      }
    },
    {
      "cell_type": "markdown",
      "source": [
        "Self represents current instance of class. It is used to access methods an dattributes of class."
      ],
      "metadata": {
        "id": "DKVWxQbDJ0MO"
      }
    },
    {
      "cell_type": "markdown",
      "source": [
        "# Methods"
      ],
      "metadata": {
        "id": "seWO_i2zJKP4"
      }
    },
    {
      "cell_type": "markdown",
      "source": [
        "Methods are functions inside class that belong to objects"
      ],
      "metadata": {
        "id": "0CWvEy6QJQm1"
      }
    },
    {
      "cell_type": "code",
      "source": [
        "class Car:\n",
        "  def start(self):\n",
        "    print('Car Started')\n",
        "\n",
        "c1=Car()\n",
        "c1.start()"
      ],
      "metadata": {
        "colab": {
          "base_uri": "https://localhost:8080/"
        },
        "id": "em-KrR0_HvgZ",
        "outputId": "045fd284-bb83-4dcd-e629-1af4a673bc7c"
      },
      "execution_count": null,
      "outputs": [
        {
          "output_type": "stream",
          "name": "stdout",
          "text": [
            "Car Started\n"
          ]
        }
      ]
    },
    {
      "cell_type": "markdown",
      "source": [
        "**Example 1**"
      ],
      "metadata": {
        "id": "KSP4XpBZKB8P"
      }
    },
    {
      "cell_type": "markdown",
      "source": [
        "Create student class that takes name and marks of 3 subjects as arguments in constructor. Then create a method to print the average."
      ],
      "metadata": {
        "id": "gA3hIsIiKD7l"
      }
    },
    {
      "cell_type": "code",
      "source": [
        "class Student:\n",
        "  def __init__(self,name,marks=[]):\n",
        "    self.name=name\n",
        "    self.marks=marks\n",
        "\n",
        "  def get_avg(self):\n",
        "    return sum(self.marks)//len(self.marks)\n",
        "\n",
        "\n",
        "s1=Student('Huzaifa',[9,10,8])\n",
        "s2=Student('Ali',[10,2,8])\n",
        "s1.get_avg(),s2.get_avg()"
      ],
      "metadata": {
        "colab": {
          "base_uri": "https://localhost:8080/"
        },
        "id": "51iWFzsBJgly",
        "outputId": "aba6e172-94fc-4714-94d5-667d22a351ff"
      },
      "execution_count": null,
      "outputs": [
        {
          "output_type": "execute_result",
          "data": {
            "text/plain": [
              "(9, 6)"
            ]
          },
          "metadata": {},
          "execution_count": 19
        }
      ]
    },
    {
      "cell_type": "markdown",
      "source": [
        "# Static Method"
      ],
      "metadata": {
        "id": "3QXGYnnZLHEQ"
      }
    },
    {
      "cell_type": "markdown",
      "source": [
        "static methods donot use self parameter and works at class level."
      ],
      "metadata": {
        "id": "55-v0CkfLJNb"
      }
    },
    {
      "cell_type": "code",
      "source": [
        "class Student:\n",
        "\n",
        "  @staticmethod # decorator\n",
        "  def get_school_name():\n",
        "    return 'School Name is Hitec'\n",
        "\n",
        "\n",
        "s1=Student()\n",
        "Student.get_school_name()\n",
        "\n"
      ],
      "metadata": {
        "colab": {
          "base_uri": "https://localhost:8080/",
          "height": 36
        },
        "id": "lVYHRSofKw1_",
        "outputId": "f34726c2-336d-4a58-efff-cf1fe42e4975"
      },
      "execution_count": null,
      "outputs": [
        {
          "output_type": "execute_result",
          "data": {
            "text/plain": [
              "'School Name is Hitec'"
            ],
            "application/vnd.google.colaboratory.intrinsic+json": {
              "type": "string"
            }
          },
          "metadata": {},
          "execution_count": 25
        }
      ]
    },
    {
      "cell_type": "markdown",
      "source": [
        "# 4 pillars of OOP\n",
        "\n",
        "1. Poymorphism\n",
        "2. Abstraction\n",
        "3. Inheritance\n",
        "4. Encapsualtion"
      ],
      "metadata": {
        "id": "1153BecUL_kn"
      }
    },
    {
      "cell_type": "markdown",
      "source": [
        "# Abstraction"
      ],
      "metadata": {
        "id": "FdXcHT3GMJU_"
      }
    },
    {
      "cell_type": "markdown",
      "source": [
        "Hiding the implementation details of class and showing important things to user."
      ],
      "metadata": {
        "id": "79JrFd31MLl-"
      }
    },
    {
      "cell_type": "code",
      "source": [
        "from abc import ABC,abstractmethod\n",
        "class Animal:\n",
        "  @abstractmethod\n",
        "  def make_sound(self):\n",
        "    pass\n",
        "\n",
        "class Dog(Animal):\n",
        "  def make_sound(self):\n",
        "    print('Dog Barks')\n",
        "class Cat(Animal):\n",
        "  def make_sound(self):\n",
        "    print('Cat Meows')\n",
        "\n",
        "dog=Dog()\n",
        "dog.make_sound()"
      ],
      "metadata": {
        "colab": {
          "base_uri": "https://localhost:8080/"
        },
        "id": "JLLvBtS2Lp70",
        "outputId": "a8d43bfb-d784-4244-c98e-c35794d9b6c8"
      },
      "execution_count": null,
      "outputs": [
        {
          "output_type": "stream",
          "name": "stdout",
          "text": [
            "Dog Barks\n"
          ]
        }
      ]
    },
    {
      "cell_type": "markdown",
      "source": [
        "# Encapsulation"
      ],
      "metadata": {
        "id": "ryZg5FVzNrFL"
      }
    },
    {
      "cell_type": "markdown",
      "source": [
        "Budling of data together with method in a class is encapsulation. It is done to prevent developers from writing scripts and APIs that use our code. It is done by making attributes private so it can't be accessed directly."
      ],
      "metadata": {
        "id": "9zeaHhCYNtVj"
      }
    },
    {
      "cell_type": "markdown",
      "source": [
        "# Public, Private, Protected"
      ],
      "metadata": {
        "id": "13qMx75WOp66"
      }
    },
    {
      "cell_type": "markdown",
      "source": [
        "1. Public members are accessible outside of class.\n",
        "2. Protected memebers are accessible within its own class and its subclasses and is represented by underscore.\n",
        "3. Private members are accessible within its own class only and are represented by double underscore."
      ],
      "metadata": {
        "id": "nKPfEeX9Ot1u"
      }
    },
    {
      "cell_type": "code",
      "source": [
        "class Employee:\n",
        "  def __init__(self,name,age,salary):\n",
        "    self.name=name # public attribute\n",
        "    self._age=age  # protected attribute\n",
        "    self.__salary=salary # private attribute\n",
        "\n",
        "  # public method\n",
        "  def display_info(self):\n",
        "    print(f'Name: {self.name},Age: {self._age}, Salary: {self.__salary}')\n",
        "\n",
        "  # protected method\n",
        "  def _display_age(self):\n",
        "    print(f'Age: {self._age}')\n",
        "\n",
        "  # private method\n",
        "  def __display_salary(self):\n",
        "    print(f'Salary:{self.__salary}')\n",
        "\n",
        "  # method to access private method\n",
        "  def get_display_salary(self):\n",
        "    return self.__display_salary()\n",
        "\n",
        "emp1=Employee('Ali',35,75000)\n",
        "print(emp1.name)\n",
        "print(emp1._age)\n",
        "emp1.display_info(),emp1._display_age(),print(emp1.get_display_salary())\n",
        "\n"
      ],
      "metadata": {
        "colab": {
          "base_uri": "https://localhost:8080/"
        },
        "id": "MKv048XePMMm",
        "outputId": "a3a680dd-52ca-4c8b-d0cc-1d30a2642f4d"
      },
      "execution_count": null,
      "outputs": [
        {
          "output_type": "stream",
          "name": "stdout",
          "text": [
            "Ali\n",
            "35\n",
            "Name: Ali,Age: 35, Salary: 75000\n",
            "Age: 35\n",
            "Salary:75000\n",
            "None\n"
          ]
        },
        {
          "output_type": "execute_result",
          "data": {
            "text/plain": [
              "(None, None, None)"
            ]
          },
          "metadata": {},
          "execution_count": 48
        }
      ]
    },
    {
      "cell_type": "markdown",
      "source": [
        "**Example 2**"
      ],
      "metadata": {
        "id": "VpEnXKMWSSF6"
      }
    },
    {
      "cell_type": "markdown",
      "source": [
        "Create account class with 2 attributes- balance & account no. Create methods for debit, credit and printing the balance."
      ],
      "metadata": {
        "id": "tPn4ffS-SVOh"
      }
    },
    {
      "cell_type": "code",
      "source": [
        "class Account:\n",
        "  def __init__(self,account_no,balance):\n",
        "    self.balance=balance\n",
        "    self.account_no=account_no\n",
        "\n",
        "  def credit(self,balance):\n",
        "    self.balance=self.balance+balance\n",
        "    print(f'Rs {balance} is credited to your account.')\n",
        "\n",
        "  def debit(self,balance):\n",
        "    self.balance=self.balance-balance\n",
        "    print(f'Rs {balance} is debited from your account.')\n",
        "\n",
        "  def print_balance(self):\n",
        "    return self.balance\n",
        "\n",
        "acc1=Account(101,175000)\n",
        "acc1.credit(35000)\n",
        "acc1.debit(10000)\n",
        "acc1.print_balance()\n",
        "\n"
      ],
      "metadata": {
        "colab": {
          "base_uri": "https://localhost:8080/"
        },
        "id": "gv0mngEiSUIY",
        "outputId": "3d648723-dd6f-4c65-fc38-4922ec906a9b"
      },
      "execution_count": null,
      "outputs": [
        {
          "output_type": "stream",
          "name": "stdout",
          "text": [
            "Rs 35000 is credited to your account.\n",
            "Rs 10000 is debited from your account.\n"
          ]
        },
        {
          "output_type": "execute_result",
          "data": {
            "text/plain": [
              "200000"
            ]
          },
          "metadata": {},
          "execution_count": 51
        }
      ]
    },
    {
      "cell_type": "markdown",
      "source": [
        "# del"
      ],
      "metadata": {
        "id": "SCw-QQ6X9lie"
      }
    },
    {
      "cell_type": "markdown",
      "source": [
        "del keyword is used to delete object."
      ],
      "metadata": {
        "id": "10J2XEtj9nn3"
      }
    },
    {
      "cell_type": "code",
      "source": [
        "class Student:\n",
        "  def __init__(self,name):\n",
        "    self.name=name\n",
        "\n",
        "s1=Student('Huzaifa')\n",
        "print(s1.name)\n",
        "del s1\n",
        "#print(s1.name) # Now we can't print name of s1 object as it gets deleted from memory."
      ],
      "metadata": {
        "colab": {
          "base_uri": "https://localhost:8080/"
        },
        "id": "VNWs4bsI9lF-",
        "outputId": "34552078-5a8e-43b4-8980-6e00139a4c62"
      },
      "execution_count": 6,
      "outputs": [
        {
          "output_type": "stream",
          "name": "stdout",
          "text": [
            "Huzaifa\n"
          ]
        }
      ]
    },
    {
      "cell_type": "markdown",
      "source": [
        "# Super"
      ],
      "metadata": {
        "id": "cM_KSYguJGjh"
      }
    },
    {
      "cell_type": "markdown",
      "source": [
        "Super is used to access properties of parent"
      ],
      "metadata": {
        "id": "uxdUN9ZFJIsD"
      }
    },
    {
      "cell_type": "code",
      "source": [
        "class Car:\n",
        "  def __init__(self,type):\n",
        "    self.type=type\n",
        "\n",
        "  @staticmethod\n",
        "  def start():\n",
        "    print('Car Started')\n",
        "\n",
        "  @staticmethod\n",
        "  def stop():\n",
        "    print('Car Stopped')\n",
        "\n",
        "\n",
        "class ToyotaCar(Car):\n",
        "  def __init__(self,name,type):\n",
        "    super().__init__(type)\n",
        "    self.name=name\n",
        "\n",
        "car1=ToyotaCar('Toyota','Electric')\n",
        "car1.start()\n",
        "car1.stop()\n",
        "print(car1.type)"
      ],
      "metadata": {
        "colab": {
          "base_uri": "https://localhost:8080/"
        },
        "id": "5rfvUQghJPW-",
        "outputId": "599c6bef-2a56-4ab4-edc9-0245d0d2bbce"
      },
      "execution_count": 31,
      "outputs": [
        {
          "output_type": "stream",
          "name": "stdout",
          "text": [
            "Car Started\n",
            "Car Stopped\n",
            "Electric\n"
          ]
        }
      ]
    },
    {
      "cell_type": "markdown",
      "source": [
        "# Inheritance"
      ],
      "metadata": {
        "id": "y_ZFC6XY_j3Z"
      }
    },
    {
      "cell_type": "markdown",
      "source": [
        "When one class(child) derives the properties & methods of another class(parent)."
      ],
      "metadata": {
        "id": "Mf53cW3R_mNE"
      }
    },
    {
      "cell_type": "markdown",
      "source": [
        "# Types of Inheritance"
      ],
      "metadata": {
        "id": "6-prCF-lGHyc"
      }
    },
    {
      "cell_type": "markdown",
      "source": [
        "1. Single Inheritance\n",
        "2. Multilevel Inheritance\n",
        "3. Multiple Inheritance"
      ],
      "metadata": {
        "id": "UbCzLtUOGKvi"
      }
    },
    {
      "cell_type": "markdown",
      "source": [
        "1. Single Inheritance"
      ],
      "metadata": {
        "id": "jAYEaNrtGjwr"
      }
    },
    {
      "cell_type": "code",
      "source": [
        "class Car:\n",
        "  color='Black'\n",
        "  @staticmethod\n",
        "  def start():\n",
        "    print('Car Started')\n",
        "\n",
        "  @staticmethod\n",
        "  def stop():\n",
        "    print('Car Stopped')\n",
        "\n",
        "class ToyotaCar(Car):\n",
        "  def __init__(self,name):\n",
        "    self.name=name\n",
        "\n",
        "car1=ToyotaCar('Toyota')\n",
        "car1.start()\n",
        "car1.stop()\n",
        "print(car1.color)\n",
        "\n",
        "\n"
      ],
      "metadata": {
        "id": "LV0EEAzGToYP",
        "colab": {
          "base_uri": "https://localhost:8080/"
        },
        "outputId": "013d7191-6eed-41df-ade2-f75bb14f1f4e"
      },
      "execution_count": 14,
      "outputs": [
        {
          "output_type": "stream",
          "name": "stdout",
          "text": [
            "Car Started\n",
            "Car Stopped\n",
            "Black\n"
          ]
        }
      ]
    },
    {
      "cell_type": "markdown",
      "source": [
        "2. Multilevel Inheritance"
      ],
      "metadata": {
        "id": "7TrHmzf1Gnej"
      }
    },
    {
      "cell_type": "code",
      "source": [
        "class Car:\n",
        "  color='Black'\n",
        "  @staticmethod\n",
        "  def start():\n",
        "    print('Car Started..')\n",
        "\n",
        "  @staticmethod\n",
        "  def stop():\n",
        "    print('Car Stopped..')\n",
        "\n",
        "class ToyotaCar(Car):\n",
        "  def __init__(self,brand):\n",
        "    self.brand=brand\n",
        "\n",
        "class HybridCar(ToyotaCar):\n",
        "  def __init__(self,battery):\n",
        "    super().__init__('Toyota')\n",
        "    self.battery=battery\n",
        "\n",
        "\n",
        "car1=HybridCar(90)\n",
        "car1.start()\n",
        "car1.stop()\n",
        "print(car1.brand)"
      ],
      "metadata": {
        "colab": {
          "base_uri": "https://localhost:8080/"
        },
        "id": "mK1fwXHIGKIQ",
        "outputId": "faa420d8-bcd9-4553-e6c6-920363bfcad9"
      },
      "execution_count": 17,
      "outputs": [
        {
          "output_type": "stream",
          "name": "stdout",
          "text": [
            "Car Started\n",
            "Car Stopped\n",
            "Toyota\n"
          ]
        }
      ]
    },
    {
      "cell_type": "markdown",
      "source": [
        "3. Multiple Inheritance: One derived class inherit properties of multiple base classes."
      ],
      "metadata": {
        "id": "jC44VVV6IIkN"
      }
    },
    {
      "cell_type": "code",
      "source": [
        "class A:\n",
        "  varA='This is class A'\n",
        "\n",
        "class B:\n",
        "  varB='This is class B'\n",
        "\n",
        "class C(A,B):\n",
        "  varC='This is class C'\n",
        "\n",
        "obj=C()\n",
        "print(obj.varA)\n",
        "print(obj.varB)\n",
        "print(obj.varC)"
      ],
      "metadata": {
        "colab": {
          "base_uri": "https://localhost:8080/"
        },
        "id": "eedt2PzHIfLS",
        "outputId": "b458a387-ef9f-4376-f819-eb2d8c3b2ea1"
      },
      "execution_count": 20,
      "outputs": [
        {
          "output_type": "stream",
          "name": "stdout",
          "text": [
            "This is class A\n",
            "This is class B\n",
            "This is class C\n"
          ]
        }
      ]
    },
    {
      "cell_type": "markdown",
      "source": [
        "# Class Method"
      ],
      "metadata": {
        "id": "lszX0XNzKwMS"
      }
    },
    {
      "cell_type": "markdown",
      "source": [
        "A class method is bound to the class & receives the class as an implicit first argument. and it isused to change class attributes."
      ],
      "metadata": {
        "id": "3Xh1NBYJKzYe"
      }
    },
    {
      "cell_type": "code",
      "source": [
        "class Person:\n",
        "  name='anonymous'\n",
        "\n",
        "  @classmethod\n",
        "  def changeName(cls,name):\n",
        "    cls.name=name\n",
        "\n",
        "p1=Person()\n",
        "p2=Person()\n",
        "p1.changeName('Huzaifa')\n",
        "print(p1.name)\n",
        "print(p2.name)"
      ],
      "metadata": {
        "colab": {
          "base_uri": "https://localhost:8080/"
        },
        "id": "izJArXuiL6qU",
        "outputId": "468c5d94-8027-4768-a924-3c8023b494cb"
      },
      "execution_count": 35,
      "outputs": [
        {
          "output_type": "stream",
          "name": "stdout",
          "text": [
            "Huzaifa\n",
            "Huzaifa\n"
          ]
        }
      ]
    },
    {
      "cell_type": "code",
      "source": [
        "class Person:\n",
        "  name='anonymous'\n",
        "\n",
        "  def changeName(self,name):\n",
        "    Person.name=name\n",
        "\n",
        "p1=Person()\n",
        "p2=Person()\n",
        "p1.changeName('Huzaifa')\n",
        "print(p1.name)\n",
        "print(p2.name)\n"
      ],
      "metadata": {
        "colab": {
          "base_uri": "https://localhost:8080/"
        },
        "id": "YByy0hpfKxz4",
        "outputId": "60ffaac0-c825-4abb-b477-932d3bfff3e9"
      },
      "execution_count": 34,
      "outputs": [
        {
          "output_type": "stream",
          "name": "stdout",
          "text": [
            "Huzaifa\n",
            "Huzaifa\n"
          ]
        }
      ]
    },
    {
      "cell_type": "markdown",
      "source": [
        "# Summary of Methods\n",
        "\n",
        "1. staticmethod is used when we are not dealing with any instance/object attribute.\n",
        "2. classmethod is used when we only have to use class attribute.\n",
        "3. instancemethod is used when we have to use instance attribute"
      ],
      "metadata": {
        "id": "5oQ5nQgyNJjE"
      }
    },
    {
      "cell_type": "markdown",
      "source": [
        "# Polymorphism"
      ],
      "metadata": {
        "id": "LqWN1ZZxQUYA"
      }
    },
    {
      "cell_type": "markdown",
      "source": [
        "Single action can be performed in different forms"
      ],
      "metadata": {
        "id": "s9DF3IeYQW4A"
      }
    },
    {
      "cell_type": "markdown",
      "source": [
        "**Operator Overloading**--When same operator is allowed to have different meaning according to context."
      ],
      "metadata": {
        "id": "UGLKGNHLUvjG"
      }
    },
    {
      "cell_type": "markdown",
      "source": [
        "add operator perform different action depending on type of values."
      ],
      "metadata": {
        "id": "mShKAJKCVkzE"
      }
    },
    {
      "cell_type": "code",
      "source": [
        "# This is implicit overloading which is already done by python\n",
        "print(1 + 3) #add\n",
        "print('Huzaifa '+'Haider') #concatenate\n",
        "print([1,2,3] + [4,5,6])  #merge"
      ],
      "metadata": {
        "colab": {
          "base_uri": "https://localhost:8080/"
        },
        "id": "vXpuOWAqL29H",
        "outputId": "54024203-42de-499c-fbd5-cc7de7ebbf19"
      },
      "execution_count": 38,
      "outputs": [
        {
          "output_type": "stream",
          "name": "stdout",
          "text": [
            "4\n",
            "Huzaifa Haider\n",
            "[1, 2, 3, 4, 5, 6]\n"
          ]
        }
      ]
    },
    {
      "cell_type": "markdown",
      "source": [
        "Dunder functions allow instances of class to interact with built-in methods and operators of language."
      ],
      "metadata": {
        "id": "9C_K3dPnBYPs"
      }
    },
    {
      "cell_type": "code",
      "source": [
        "# Explicit overloading which is done by dunder functions\n",
        "class Complex:\n",
        "  def __init__(self,real,img):\n",
        "    self.real=real\n",
        "    self.img=img\n",
        "\n",
        "  def showNumber(self):\n",
        "    print(self.real,'+',self.img,'i')\n",
        "\n",
        "  def __add__(self,num2):\n",
        "    newReal=self.real+num2.real\n",
        "    newImg=self.img+num2.img\n",
        "    return Complex(newReal,newImg)\n",
        "\n",
        "  def __sub__(self,num2):\n",
        "    newReal=self.real-num2.real\n",
        "    newImg=self.img-num2.img\n",
        "    return Complex(newReal,newImg)\n",
        "\n",
        "  def __mul__(self,num2):\n",
        "    newReal=self.real*num2.real\n",
        "    newImg=self.img*num2.img\n",
        "    return Complex(newReal,newImg)\n",
        "\n",
        "num1=Complex(1,3)\n",
        "num1.showNumber()\n",
        "num2=Complex(4,5)\n",
        "num2.showNumber()\n",
        "\n",
        "add=num1+num2\n",
        "add.showNumber()\n",
        "\n",
        "sub=num1-num2\n",
        "sub.showNumber()\n",
        "\n",
        "mul=num1*num2\n",
        "mul.showNumber()\n",
        "\n",
        ""
      ],
      "metadata": {
        "colab": {
          "base_uri": "https://localhost:8080/"
        },
        "id": "eDmlI6V9VBRC",
        "outputId": "c978f4ab-6bea-4638-9d47-639ffa341f3f"
      },
      "execution_count": 51,
      "outputs": [
        {
          "output_type": "stream",
          "name": "stdout",
          "text": [
            "1 + 3 i\n",
            "4 + 5 i\n",
            "5 + 8 i\n",
            "-3 + -2 i\n",
            "4 + 15 i\n"
          ]
        }
      ]
    },
    {
      "cell_type": "markdown",
      "source": [
        "**Example 3**"
      ],
      "metadata": {
        "id": "RmMGVKmg8NP4"
      }
    },
    {
      "cell_type": "markdown",
      "source": [
        "Define a Circle class to create a circle with radius r using the constructor.\n",
        "\n",
        "Define an Area() method of the class which calculates the area of a circle.\n",
        "\n",
        "Define a Perimeter() method of the class which allows you to calculate the perimeter of the circle."
      ],
      "metadata": {
        "id": "k1NkWqiD8QO1"
      }
    },
    {
      "cell_type": "code",
      "source": [
        "class Circle:\n",
        "  pi=22/7\n",
        "  def __init__(self,radius):\n",
        "    self.radius=radius\n",
        "\n",
        "  def area(self):\n",
        "    return self.pi*self.radius*self.radius\n",
        "\n",
        "  def perimeter(self):\n",
        "    return 2*self.pi*self.radius\n",
        "\n",
        "\n",
        "c1=Circle(21)\n",
        "c1.area(),c1.perimeter()"
      ],
      "metadata": {
        "colab": {
          "base_uri": "https://localhost:8080/"
        },
        "id": "P8W4iNr2Y1Kf",
        "outputId": "e13605f6-50ca-492c-d230-53fb87bd7ee8"
      },
      "execution_count": 5,
      "outputs": [
        {
          "output_type": "execute_result",
          "data": {
            "text/plain": [
              "(1386.0, 132.0)"
            ]
          },
          "metadata": {},
          "execution_count": 5
        }
      ]
    },
    {
      "cell_type": "markdown",
      "source": [
        "**Example 4**"
      ],
      "metadata": {
        "id": "S32SEDQ8-doh"
      }
    },
    {
      "cell_type": "markdown",
      "source": [
        "Define an employee class with attributes role,department & salary. This class also has a show details method.\n",
        "\n",
        "Create an Engineer class that inherits properties from Employee & has additional attributes: name & age."
      ],
      "metadata": {
        "id": "h2utO8cQ-h89"
      }
    },
    {
      "cell_type": "code",
      "source": [
        "class Employee:\n",
        "  def __init__(self,role,dept,salary):\n",
        "    self.role=role\n",
        "    self.dept=dept\n",
        "    self.salary=salary\n",
        "\n",
        "  def show_details(self):\n",
        "    print(f'role={self.role},dept={self.dept},salary={self.salary}')\n",
        "\n",
        "class Engineer(Employee):\n",
        "  def __init__(self,name,age):\n",
        "    super().__init__(\"Engineer\",\"IT\",\"60000\")\n",
        "    self.name=name\n",
        "    self.age=age\n",
        "\n",
        "  def show_details(self):\n",
        "    super().show_details()\n",
        "    print(f'name={self.name},age={self.age}')\n",
        "\n",
        "\n",
        "\n",
        "eng1=Engineer('Huzaifa Haider',20)\n",
        "eng1.show_details()"
      ],
      "metadata": {
        "colab": {
          "base_uri": "https://localhost:8080/"
        },
        "id": "Gsd578Yj-gNt",
        "outputId": "581b0fea-432a-41a7-fa25-f522bb478200"
      },
      "execution_count": 10,
      "outputs": [
        {
          "output_type": "stream",
          "name": "stdout",
          "text": [
            "role=Engineer,dept=IT,salary=60000\n",
            "name=Huzaifa Haider,age=20\n"
          ]
        }
      ]
    },
    {
      "cell_type": "markdown",
      "source": [
        "**Example 5**"
      ],
      "metadata": {
        "id": "yMFZRR9-A1aH"
      }
    },
    {
      "cell_type": "markdown",
      "source": [
        "Create a class called Order which stores item and its price.\n",
        "\n",
        "Use dunder function __gt__() to convey that:\n",
        "\n",
        "order1>order2 if price of order1>price of order2"
      ],
      "metadata": {
        "id": "LTuXNxkgA3Ye"
      }
    },
    {
      "cell_type": "code",
      "source": [
        "class Order:\n",
        "  def __init__(self,item,price):\n",
        "    self.item=item\n",
        "    self.price=price\n",
        "  def __gt__(self,order2):\n",
        "    return self.price>order2.price\n",
        "\n",
        "  def __lt__(self,order2):\n",
        "    return self.price<order2.price\n",
        "\n",
        "  def __eq__(self,order2):\n",
        "    return self.price==order2.price\n",
        "\n",
        "order1=Order('Jelly',500)\n",
        "order2=Order('Biscuit',3000)\n",
        "order1>order2,order1<order2,order1==order2"
      ],
      "metadata": {
        "colab": {
          "base_uri": "https://localhost:8080/"
        },
        "id": "pzHO9-n6Attv",
        "outputId": "80c34978-4d0f-4ebc-e80b-81d2e3a5c235"
      },
      "execution_count": 21,
      "outputs": [
        {
          "output_type": "execute_result",
          "data": {
            "text/plain": [
              "(False, True, False)"
            ]
          },
          "metadata": {},
          "execution_count": 21
        }
      ]
    },
    {
      "cell_type": "code",
      "source": [],
      "metadata": {
        "id": "QIjH3xRACNlV"
      },
      "execution_count": null,
      "outputs": []
    }
  ]
}