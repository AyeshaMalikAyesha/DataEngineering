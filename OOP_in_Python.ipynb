{
  "nbformat": 4,
  "nbformat_minor": 0,
  "metadata": {
    "colab": {
      "provenance": [],
      "authorship_tag": "ABX9TyOygZSn3/jKlKsQ/Bv9EHzr",
      "include_colab_link": true
    },
    "kernelspec": {
      "name": "python3",
      "display_name": "Python 3"
    },
    "language_info": {
      "name": "python"
    }
  },
  "cells": [
    {
      "cell_type": "markdown",
      "metadata": {
        "id": "view-in-github",
        "colab_type": "text"
      },
      "source": [
        "<a href=\"https://colab.research.google.com/github/AyeshaMalikAyesha/DataEngineering/blob/main/OOP_in_Python.ipynb\" target=\"_parent\"><img src=\"https://colab.research.google.com/assets/colab-badge.svg\" alt=\"Open In Colab\"/></a>"
      ]
    },
    {
      "cell_type": "markdown",
      "source": [
        "# OOP in Python"
      ],
      "metadata": {
        "id": "E9pz4L_UEnzZ"
      }
    },
    {
      "cell_type": "markdown",
      "source": [
        "At start we were doing procedural(sequential) programming,then comes the concept of function to increase reusability and reduce redundancy,then comes oop to reduce redundancy more.\n",
        "\n",
        "OOP is used to organize things systematically.\n",
        "\n",
        "procedural-->functional-->oop"
      ],
      "metadata": {
        "id": "sqCh-JG7Eson"
      }
    },
    {
      "cell_type": "markdown",
      "source": [
        "# Objects & Classes"
      ],
      "metadata": {
        "id": "nxm4PyI7E2gC"
      }
    },
    {
      "cell_type": "markdown",
      "source": [
        "Classes are blueprint of objects that contain data and methods and objects are instances of class."
      ],
      "metadata": {
        "id": "-e3SMOGLFrOT"
      }
    },
    {
      "cell_type": "code",
      "execution_count": 7,
      "metadata": {
        "colab": {
          "base_uri": "https://localhost:8080/"
        },
        "id": "2Z6qWPnOEV0v",
        "outputId": "03579681-2083-4d52-b06a-6bf3877617e2"
      },
      "outputs": [
        {
          "output_type": "stream",
          "name": "stdout",
          "text": [
            "Ali\n"
          ]
        }
      ],
      "source": [
        "class Student:\n",
        "  name=\"Ali\"\n",
        "\n",
        "s1=Student()\n",
        "print(s1.name)"
      ]
    },
    {
      "cell_type": "markdown",
      "source": [
        "# Constructors"
      ],
      "metadata": {
        "id": "i0YwujKFHT2z"
      }
    },
    {
      "cell_type": "markdown",
      "source": [
        "All classes have init function which is always executed when object is created."
      ],
      "metadata": {
        "id": "ZMxjwD1VHXT1"
      }
    },
    {
      "cell_type": "code",
      "source": [
        "class Student:\n",
        "  # Class Attributes\n",
        "  school_name=\"HITEC\"\n",
        "  # Default Constructor\n",
        "  def __init__(self):\n",
        "    pass\n",
        "  #  Parametrized Constructor\n",
        "  def __init__(self,name,age):\n",
        "    # instance attributes\n",
        "    self.name=name\n",
        "    self.age=age\n",
        "\n",
        "s1=Student('Huzaifa','1')\n",
        "print(s1.name,s1.age,s1.school_name)"
      ],
      "metadata": {
        "colab": {
          "base_uri": "https://localhost:8080/"
        },
        "id": "isU_9W8kGqtl",
        "outputId": "253c1535-44e0-4a2c-822a-60c5aad35fb0"
      },
      "execution_count": 12,
      "outputs": [
        {
          "output_type": "stream",
          "name": "stdout",
          "text": [
            "Huzaifa 1 HITEC\n"
          ]
        }
      ]
    },
    {
      "cell_type": "markdown",
      "source": [
        "# Class Attributes and Instance attributes"
      ],
      "metadata": {
        "id": "a1cJcP86IQx_"
      }
    },
    {
      "cell_type": "markdown",
      "source": [
        "Class attributes are shared across all instance of the class, as it is same for all objects so in order to conserve memory we make the attribut as class attribute and instacnce attributes belong to objects."
      ],
      "metadata": {
        "id": "3z-wHAAdIVLW"
      }
    },
    {
      "cell_type": "markdown",
      "source": [
        "# Self"
      ],
      "metadata": {
        "id": "a7hbu6bQJy7O"
      }
    },
    {
      "cell_type": "markdown",
      "source": [
        "Self represents current instance of class. It is used to access methods an dattributes of class."
      ],
      "metadata": {
        "id": "DKVWxQbDJ0MO"
      }
    },
    {
      "cell_type": "markdown",
      "source": [
        "# Methods"
      ],
      "metadata": {
        "id": "seWO_i2zJKP4"
      }
    },
    {
      "cell_type": "markdown",
      "source": [
        "Methods are functions inside class that belong to objects"
      ],
      "metadata": {
        "id": "0CWvEy6QJQm1"
      }
    },
    {
      "cell_type": "code",
      "source": [
        "class Car:\n",
        "  def start(self):\n",
        "    print('Car Started')\n",
        "\n",
        "c1=Car()\n",
        "c1.start()"
      ],
      "metadata": {
        "colab": {
          "base_uri": "https://localhost:8080/"
        },
        "id": "em-KrR0_HvgZ",
        "outputId": "045fd284-bb83-4dcd-e629-1af4a673bc7c"
      },
      "execution_count": 13,
      "outputs": [
        {
          "output_type": "stream",
          "name": "stdout",
          "text": [
            "Car Started\n"
          ]
        }
      ]
    },
    {
      "cell_type": "markdown",
      "source": [
        "**Example 1**"
      ],
      "metadata": {
        "id": "KSP4XpBZKB8P"
      }
    },
    {
      "cell_type": "markdown",
      "source": [
        "Create student class that takes name and marks of 3 subjects as arguments in constructor. Then create a method to print the average."
      ],
      "metadata": {
        "id": "gA3hIsIiKD7l"
      }
    },
    {
      "cell_type": "code",
      "source": [
        "class Student:\n",
        "  def __init__(self,name,marks=[]):\n",
        "    self.name=name\n",
        "    self.marks=marks\n",
        "\n",
        "  def get_avg(self):\n",
        "    return sum(self.marks)//len(self.marks)\n",
        "\n",
        "\n",
        "s1=Student('Huzaifa',[9,10,8])\n",
        "s2=Student('Ali',[10,2,8])\n",
        "s1.get_avg(),s2.get_avg()"
      ],
      "metadata": {
        "colab": {
          "base_uri": "https://localhost:8080/"
        },
        "id": "51iWFzsBJgly",
        "outputId": "aba6e172-94fc-4714-94d5-667d22a351ff"
      },
      "execution_count": 19,
      "outputs": [
        {
          "output_type": "execute_result",
          "data": {
            "text/plain": [
              "(9, 6)"
            ]
          },
          "metadata": {},
          "execution_count": 19
        }
      ]
    },
    {
      "cell_type": "markdown",
      "source": [
        "# Static Method"
      ],
      "metadata": {
        "id": "3QXGYnnZLHEQ"
      }
    },
    {
      "cell_type": "markdown",
      "source": [
        "static methods donot use self parameter and works at class level."
      ],
      "metadata": {
        "id": "55-v0CkfLJNb"
      }
    },
    {
      "cell_type": "code",
      "source": [
        "class Student:\n",
        "\n",
        "  @staticmethod # decorator\n",
        "  def get_school_name():\n",
        "    return 'School Name is Hitec'\n",
        "\n",
        "\n",
        "s1=Student()\n",
        "Student.get_school_name()\n",
        "\n"
      ],
      "metadata": {
        "colab": {
          "base_uri": "https://localhost:8080/",
          "height": 36
        },
        "id": "lVYHRSofKw1_",
        "outputId": "f34726c2-336d-4a58-efff-cf1fe42e4975"
      },
      "execution_count": 25,
      "outputs": [
        {
          "output_type": "execute_result",
          "data": {
            "text/plain": [
              "'School Name is Hitec'"
            ],
            "application/vnd.google.colaboratory.intrinsic+json": {
              "type": "string"
            }
          },
          "metadata": {},
          "execution_count": 25
        }
      ]
    },
    {
      "cell_type": "markdown",
      "source": [
        "# 4 pillars of OOP\n",
        "\n",
        "1. Poymorphism\n",
        "2. Abstraction\n",
        "3. Inheritance\n",
        "4. Encapsualtion"
      ],
      "metadata": {
        "id": "1153BecUL_kn"
      }
    },
    {
      "cell_type": "markdown",
      "source": [
        "# Abstraction"
      ],
      "metadata": {
        "id": "FdXcHT3GMJU_"
      }
    },
    {
      "cell_type": "markdown",
      "source": [
        "Hiding the implementation details of class and showing important things to user."
      ],
      "metadata": {
        "id": "79JrFd31MLl-"
      }
    },
    {
      "cell_type": "code",
      "source": [
        "from abc import ABC,abstractmethod\n",
        "class Animal:\n",
        "  @abstractmethod\n",
        "  def make_sound(self):\n",
        "    pass\n",
        "\n",
        "class Dog(Animal):\n",
        "  def make_sound(self):\n",
        "    print('Dog Barks')\n",
        "class Cat(Animal):\n",
        "  def make_sound(self):\n",
        "    print('Cat Meows')\n",
        "\n",
        "dog=Dog()\n",
        "dog.make_sound()"
      ],
      "metadata": {
        "colab": {
          "base_uri": "https://localhost:8080/"
        },
        "id": "JLLvBtS2Lp70",
        "outputId": "a8d43bfb-d784-4244-c98e-c35794d9b6c8"
      },
      "execution_count": 33,
      "outputs": [
        {
          "output_type": "stream",
          "name": "stdout",
          "text": [
            "Dog Barks\n"
          ]
        }
      ]
    },
    {
      "cell_type": "markdown",
      "source": [
        "# Encapsulation"
      ],
      "metadata": {
        "id": "ryZg5FVzNrFL"
      }
    },
    {
      "cell_type": "markdown",
      "source": [
        "Budling of data together with method in a class is encapsulation. It is done to prevent developers from writing scripts and APIs that use our code. It is done by making attributes private so it can't be accessed directly."
      ],
      "metadata": {
        "id": "9zeaHhCYNtVj"
      }
    },
    {
      "cell_type": "markdown",
      "source": [
        "# Public, Private, Protected"
      ],
      "metadata": {
        "id": "13qMx75WOp66"
      }
    },
    {
      "cell_type": "markdown",
      "source": [
        "1. Public members are accessible outside of class.\n",
        "2. Protected memebers are accessible within its own class and its subclasses and is represented by underscore.\n",
        "3. Private members are accessible within its own class only and are represented by double underscore."
      ],
      "metadata": {
        "id": "nKPfEeX9Ot1u"
      }
    },
    {
      "cell_type": "code",
      "source": [
        "class Employee:\n",
        "  def __init__(self,name,age,salary):\n",
        "    self.name=name # public attribute\n",
        "    self._age=age  # protected attribute\n",
        "    self.__salary=salary # private attribute\n",
        "\n",
        "  # public method\n",
        "  def display_info(self):\n",
        "    print(f'Name: {self.name},Age: {self._age}, Salary: {self.__salary}')\n",
        "\n",
        "  # protected method\n",
        "  def _display_age(self):\n",
        "    print(f'Age: {self._age}')\n",
        "\n",
        "  # private method\n",
        "  def __display_salary(self):\n",
        "    print(f'Salary:{self.__salary}')\n",
        "\n",
        "  # method to access private method\n",
        "  def get_display_salary(self):\n",
        "    return self.__display_salary()\n",
        "\n",
        "emp1=Employee('Ali',35,75000)\n",
        "print(emp1.name)\n",
        "print(emp1._age)\n",
        "emp1.display_info(),emp1._display_age(),print(emp1.get_display_salary())\n",
        "\n"
      ],
      "metadata": {
        "colab": {
          "base_uri": "https://localhost:8080/"
        },
        "id": "MKv048XePMMm",
        "outputId": "a3a680dd-52ca-4c8b-d0cc-1d30a2642f4d"
      },
      "execution_count": 48,
      "outputs": [
        {
          "output_type": "stream",
          "name": "stdout",
          "text": [
            "Ali\n",
            "35\n",
            "Name: Ali,Age: 35, Salary: 75000\n",
            "Age: 35\n",
            "Salary:75000\n",
            "None\n"
          ]
        },
        {
          "output_type": "execute_result",
          "data": {
            "text/plain": [
              "(None, None, None)"
            ]
          },
          "metadata": {},
          "execution_count": 48
        }
      ]
    },
    {
      "cell_type": "markdown",
      "source": [
        "**Example 2**"
      ],
      "metadata": {
        "id": "VpEnXKMWSSF6"
      }
    },
    {
      "cell_type": "markdown",
      "source": [
        "Create account class with 2 attributes- balance & account no. Create methods for debit, credit and printing the balance."
      ],
      "metadata": {
        "id": "tPn4ffS-SVOh"
      }
    },
    {
      "cell_type": "code",
      "source": [
        "class Account:\n",
        "  def __init__(self,account_no,balance):\n",
        "    self.balance=balance\n",
        "    self.account_no=account_no\n",
        "\n",
        "  def credit(self,balance):\n",
        "    self.balance=self.balance+balance\n",
        "    print(f'Rs {balance} is credited to your account.')\n",
        "\n",
        "  def debit(self,balance):\n",
        "    self.balance=self.balance-balance\n",
        "    print(f'Rs {balance} is debited from your account.')\n",
        "\n",
        "  def print_balance(self):\n",
        "    return self.balance\n",
        "\n",
        "acc1=Account(101,175000)\n",
        "acc1.credit(35000)\n",
        "acc1.debit(10000)\n",
        "acc1.print_balance()\n",
        "\n"
      ],
      "metadata": {
        "colab": {
          "base_uri": "https://localhost:8080/"
        },
        "id": "gv0mngEiSUIY",
        "outputId": "3d648723-dd6f-4c65-fc38-4922ec906a9b"
      },
      "execution_count": 51,
      "outputs": [
        {
          "output_type": "stream",
          "name": "stdout",
          "text": [
            "Rs 35000 is credited to your account.\n",
            "Rs 10000 is debited from your account.\n"
          ]
        },
        {
          "output_type": "execute_result",
          "data": {
            "text/plain": [
              "200000"
            ]
          },
          "metadata": {},
          "execution_count": 51
        }
      ]
    },
    {
      "cell_type": "code",
      "source": [],
      "metadata": {
        "id": "LV0EEAzGToYP"
      },
      "execution_count": null,
      "outputs": []
    }
  ]
}