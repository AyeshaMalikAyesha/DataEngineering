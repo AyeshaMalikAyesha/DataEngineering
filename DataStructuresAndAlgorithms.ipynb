{
  "nbformat": 4,
  "nbformat_minor": 0,
  "metadata": {
    "colab": {
      "provenance": [],
      "authorship_tag": "ABX9TyOKVTykO4HDeB4+9WVcftZF",
      "include_colab_link": true
    },
    "kernelspec": {
      "name": "python3",
      "display_name": "Python 3"
    },
    "language_info": {
      "name": "python"
    }
  },
  "cells": [
    {
      "cell_type": "markdown",
      "metadata": {
        "id": "view-in-github",
        "colab_type": "text"
      },
      "source": [
        "<a href=\"https://colab.research.google.com/github/AyeshaMalikAyesha/DataEngineering/blob/main/DataStructuresAndAlgorithms.ipynb\" target=\"_parent\"><img src=\"https://colab.research.google.com/assets/colab-badge.svg\" alt=\"Open In Colab\"/></a>"
      ]
    },
    {
      "cell_type": "markdown",
      "source": [
        "# Data Structures and Algorithms\n",
        "\n"
      ],
      "metadata": {
        "id": "rx9fjg7SVkvR"
      }
    },
    {
      "cell_type": "markdown",
      "source": [
        "Data structure is a way to organize data and Algorithms are set of rules that can be converted into code and executed by compiler on different inputs."
      ],
      "metadata": {
        "id": "fjo2D-PXVshK"
      }
    },
    {
      "cell_type": "markdown",
      "source": [
        "SELF represents instance of class. It is used to access the attributes and methods of class."
      ],
      "metadata": {
        "id": "bUn1m5aEVwg2"
      }
    },
    {
      "cell_type": "markdown",
      "source": [
        "str and repr both are string representation of objects but str is more readable and is for users but repr is for developers and is more detailed."
      ],
      "metadata": {
        "id": "x6fCwDgbVzMk"
      }
    },
    {
      "cell_type": "code",
      "source": [
        "class Student:\n",
        "    uniName='RIPHAH' # class variable is shared across all instance of the class\n",
        "    # Constructor\n",
        "    def __init__(self,sapId,name):\n",
        "        self.sapId=sapId\n",
        "        self.name=name\n",
        "    def __str__(self):\n",
        "        return self.__repr__()\n",
        "    def __repr__(self):\n",
        "        return f'Name:{self.name} ,ID:{self.sapId}, Uni Name:{self.uniName}'\n",
        "std1=Student(24764,'Ayesha')\n",
        "std1"
      ],
      "metadata": {
        "colab": {
          "base_uri": "https://localhost:8080/"
        },
        "id": "JctFNX2TVoR_",
        "outputId": "72b84c7e-3e69-4e38-936b-db8eac073269"
      },
      "execution_count": null,
      "outputs": [
        {
          "output_type": "execute_result",
          "data": {
            "text/plain": [
              "Name:Ayesha ,ID:24764, Uni Name:RIPHAH"
            ]
          },
          "metadata": {},
          "execution_count": 1
        }
      ]
    },
    {
      "cell_type": "markdown",
      "source": [
        "# Linear Search Algorithm O(n)"
      ],
      "metadata": {
        "id": "GlR7Vk2dWA9X"
      }
    },
    {
      "cell_type": "code",
      "source": [
        "def linear_search(arr,target):\n",
        "    for i in range(len(arr)):\n",
        "        if arr[i]==target:\n",
        "            return i\n",
        "    return -1\n",
        "\n",
        "arr=[1,2,3,4,5,6,7,8,90,45]\n",
        "linear_search(arr,5)\n",
        "\n"
      ],
      "metadata": {
        "colab": {
          "base_uri": "https://localhost:8080/"
        },
        "id": "C-yKN8IKV6zW",
        "outputId": "f0764e23-649f-4f04-fc2b-10b32a5ba77a"
      },
      "execution_count": null,
      "outputs": [
        {
          "output_type": "execute_result",
          "data": {
            "text/plain": [
              "4"
            ]
          },
          "metadata": {},
          "execution_count": 2
        }
      ]
    },
    {
      "cell_type": "markdown",
      "source": [
        "# Binary Search Algorithm TC=O(logn)"
      ],
      "metadata": {
        "id": "Q4YvBM1MWXPX"
      }
    },
    {
      "cell_type": "code",
      "source": [
        "def binary_search(arr,target):\n",
        "    l,h=0,len(arr)-1\n",
        "    while l<=h:\n",
        "        mid=(l+h)//2\n",
        "        if arr[mid]==target:\n",
        "            return mid\n",
        "        elif target>arr[mid]:\n",
        "            l=mid+1\n",
        "        else:\n",
        "            h=mid-1\n",
        "    return arr\n",
        "arr=[1,2,3,4,5,6,7,8,9]\n",
        "binary_search(arr,5)"
      ],
      "metadata": {
        "colab": {
          "base_uri": "https://localhost:8080/"
        },
        "id": "Oczt56XAWJBP",
        "outputId": "ceae1f0b-e181-43f3-845f-ec639826603e"
      },
      "execution_count": null,
      "outputs": [
        {
          "output_type": "execute_result",
          "data": {
            "text/plain": [
              "4"
            ]
          },
          "metadata": {},
          "execution_count": 3
        }
      ]
    },
    {
      "cell_type": "markdown",
      "source": [
        "**Find first occurance of target using binary search**"
      ],
      "metadata": {
        "id": "zesAT9nTWmy3"
      }
    },
    {
      "cell_type": "code",
      "source": [
        "def binary_search(arr,target):\n",
        "    l,h=0,len(arr)-1\n",
        "    while l<=h:\n",
        "        mid=(l+h)//2\n",
        "        if target==arr[mid]:\n",
        "            if mid>0 and arr[mid-1]==target:\n",
        "                h=mid-1\n",
        "            else:\n",
        "                return mid\n",
        "        elif target>arr[mid]:\n",
        "            l=mid+1\n",
        "        else:\n",
        "            h=mid-1\n",
        "    return -1\n",
        "binary_search([1,2,2,3,4],2)"
      ],
      "metadata": {
        "colab": {
          "base_uri": "https://localhost:8080/"
        },
        "id": "ZsMQ0IGEWjCj",
        "outputId": "4fa7ac1e-e44b-433d-bff7-6b25156cb87f"
      },
      "execution_count": null,
      "outputs": [
        {
          "output_type": "execute_result",
          "data": {
            "text/plain": [
              "1"
            ]
          },
          "metadata": {},
          "execution_count": 4
        }
      ]
    },
    {
      "cell_type": "markdown",
      "source": [
        "# Rotated List"
      ],
      "metadata": {
        "id": "wsunROuOWylv"
      }
    },
    {
      "cell_type": "markdown",
      "source": [
        "We have to find out that how many times the sorted list has been rotated?"
      ],
      "metadata": {
        "id": "i8cj1pYcW21J"
      }
    },
    {
      "cell_type": "code",
      "source": [
        "def linear_search(arr):\n",
        "    for i in range(len(arr)):\n",
        "        if arr[i]<arr[len(arr)-1]:\n",
        "            return i\n",
        "    return 0\n",
        "linear_search([4,5,6,7,8,9,1,2,3])"
      ],
      "metadata": {
        "colab": {
          "base_uri": "https://localhost:8080/"
        },
        "id": "C2QcSqylWtZ0",
        "outputId": "d163d8d1-bfc1-4e6c-c024-c0abcb1d0924"
      },
      "execution_count": null,
      "outputs": [
        {
          "output_type": "execute_result",
          "data": {
            "text/plain": [
              "6"
            ]
          },
          "metadata": {},
          "execution_count": 5
        }
      ]
    },
    {
      "cell_type": "code",
      "source": [
        "def binary_search(arr):\n",
        "    l,h=0,len(arr)-1\n",
        "    while l<=h:\n",
        "        mid=(l+h)//2\n",
        "        if mid>0 and arr[mid]<arr[mid-1]:\n",
        "            return mid\n",
        "        elif mid<len(arr)-1 and arr[mid]>arr[mid+1]:\n",
        "            return mid+1\n",
        "        elif arr[mid]>arr[h]:\n",
        "            l=mid+1\n",
        "        else:\n",
        "            h=mid-1\n",
        "    return 0\n",
        "binary_search([4,5,6,1,2,3])"
      ],
      "metadata": {
        "colab": {
          "base_uri": "https://localhost:8080/"
        },
        "id": "uiGOplh7W5yQ",
        "outputId": "b2c2cccd-9ba9-4765-b76b-f0b168385e5f"
      },
      "execution_count": null,
      "outputs": [
        {
          "output_type": "execute_result",
          "data": {
            "text/plain": [
              "3"
            ]
          },
          "metadata": {},
          "execution_count": 6
        }
      ]
    },
    {
      "cell_type": "markdown",
      "source": [
        "# Sorting"
      ],
      "metadata": {
        "id": "AFUuI2xUDdWU"
      }
    },
    {
      "cell_type": "markdown",
      "source": [
        "**Bubble Sort**"
      ],
      "metadata": {
        "id": "PaEtlInIDfsG"
      }
    },
    {
      "cell_type": "markdown",
      "source": [
        "**Bubble Sort Algorithm**\n",
        "\n",
        "1. Go through each element of array.\n",
        "2. Compare the two consecutive elements, and place the largest element at the right side.\n",
        "3. Go through the array as many times as one less the number of elements in array(n-1)."
      ],
      "metadata": {
        "id": "ixg9N-PoDkwG"
      }
    },
    {
      "cell_type": "markdown",
      "source": [
        "1. Time Complexity=O(n^2) Where n is the length of array\n",
        "2. Space Complexity=O(1) as no extra space is required to sort the array."
      ],
      "metadata": {
        "id": "T9Ljk7fyDwCD"
      }
    },
    {
      "cell_type": "code",
      "source": [
        "def bubble_sort(arr):\n",
        "    n=len(arr)\n",
        "    for i in range(n-1):\n",
        "        for j in range(n-i-1):\n",
        "            if arr[j]>arr[j+1]:\n",
        "                arr[j],arr[j+1]=arr[j+1],arr[j]\n",
        "    return arr\n",
        "bubble_sort([9,10,2,3,1])"
      ],
      "metadata": {
        "id": "tQK2DoAsW8XD",
        "colab": {
          "base_uri": "https://localhost:8080/"
        },
        "outputId": "f74c33d5-4dee-4dce-cbb0-4df3a5749f16"
      },
      "execution_count": null,
      "outputs": [
        {
          "output_type": "execute_result",
          "data": {
            "text/plain": [
              "[1, 2, 3, 9, 10]"
            ]
          },
          "metadata": {},
          "execution_count": 7
        }
      ]
    },
    {
      "cell_type": "markdown",
      "source": [
        "# Selection Sort"
      ],
      "metadata": {
        "id": "Po6JfAGHDqTp"
      }
    },
    {
      "cell_type": "markdown",
      "source": [
        "1. Go through every element of list to find the lowest element.\n",
        "2. Move the lowest element to front unsorted part of array.\n",
        "3. Repeat the above steps as many times as 1 less the number of elements in the list."
      ],
      "metadata": {
        "id": "tFh3H7wCDsuJ"
      }
    },
    {
      "cell_type": "markdown",
      "source": [
        "TC=O(N^2) AND SC=O(1)"
      ],
      "metadata": {
        "id": "Z5fzTaPGD1Cr"
      }
    },
    {
      "cell_type": "code",
      "source": [
        "def selection_sort(arr):\n",
        "    n=len(arr)\n",
        "    for i in range(n-1):\n",
        "        min=i\n",
        "        for j in range(i+1,n):\n",
        "            if arr[min]>arr[j]:\n",
        "                min=j\n",
        "        arr[min],arr[i]=arr[i],arr[min]\n",
        "    return arr\n",
        "selection_sort([2,5,3,1])"
      ],
      "metadata": {
        "id": "H8QtPwsAD1ve",
        "colab": {
          "base_uri": "https://localhost:8080/"
        },
        "outputId": "c495cb45-c15c-4faa-ff9a-156d8064a68d"
      },
      "execution_count": null,
      "outputs": [
        {
          "output_type": "execute_result",
          "data": {
            "text/plain": [
              "[1, 2, 3, 5]"
            ]
          },
          "metadata": {},
          "execution_count": 8
        }
      ]
    },
    {
      "cell_type": "markdown",
      "source": [
        "# Insertion Sort"
      ],
      "metadata": {
        "id": "_pn8YF524ObY"
      }
    },
    {
      "cell_type": "markdown",
      "source": [
        "1. Start with second element as first element is assumed to be sorted.\n",
        "2. Compare second element with first element and swap if second element is less than first element.\n",
        "3. Now compare third element with second and then first element and insert it at the right position of the sorted list.\n",
        "4. Repeat the steps until the entire array is sorted."
      ],
      "metadata": {
        "id": "rU0iotZW4Q3y"
      }
    },
    {
      "cell_type": "markdown",
      "source": [
        "TC=O(n^2),SC=O(1)"
      ],
      "metadata": {
        "id": "Muwp2NHj4cPI"
      }
    },
    {
      "cell_type": "markdown",
      "source": [
        "def **insertion_sort**(arr):\n",
        "\n",
        "    n=len(arr)\n",
        "    for i in range(1,n):\n",
        "        temp=arr[i]\n",
        "        j=i\n",
        "        while (j>0 and temp<arr[j-1]):\n",
        "            arr[j]=arr[j-1]\n",
        "            j-=1\n",
        "        arr[j]=temp\n",
        "    return arr\n",
        "insertion_sort([10,-2,45,2,5,3,1])"
      ],
      "metadata": {
        "id": "7tMIYQqzoDGY"
      }
    },
    {
      "cell_type": "code",
      "source": [
        "def insertion_sort(arr):\n",
        "    n=len(arr)\n",
        "    for i in range(1,n):\n",
        "        temp=arr[i]\n",
        "        j=i\n",
        "        while (j>0 and temp<arr[j-1]):\n",
        "            arr[j]=arr[j-1]\n",
        "            j-=1\n",
        "        arr[j]=temp\n",
        "    return arr\n",
        "insertion_sort([10,-2,45,2,5,3,1])"
      ],
      "metadata": {
        "colab": {
          "base_uri": "https://localhost:8080/"
        },
        "id": "CsNVxCIZX3Lu",
        "outputId": "68f5fe44-fe3b-415c-ec6a-d28e48242128"
      },
      "execution_count": null,
      "outputs": [
        {
          "output_type": "execute_result",
          "data": {
            "text/plain": [
              "[-2, 1, 2, 3, 5, 10, 45]"
            ]
          },
          "metadata": {},
          "execution_count": 19
        }
      ]
    },
    {
      "cell_type": "markdown",
      "source": [
        "# Set"
      ],
      "metadata": {
        "id": "Iz-l90HZY8hv"
      }
    },
    {
      "cell_type": "markdown",
      "source": [
        "1. Set is a data structure in python that is unordered.\n",
        "2. It donot allow duplicate values.\n",
        "3. It is unchangeable means once the values are set, they cannot be changed.\n",
        "4. Sets are mutable, we can add or reove elements"
      ],
      "metadata": {
        "id": "l9m4aPz-ZU8c"
      }
    },
    {
      "cell_type": "code",
      "source": [
        "set1={1,22,3,2,2,True,'a','Ali'}\n",
        "print(set1)"
      ],
      "metadata": {
        "colab": {
          "base_uri": "https://localhost:8080/"
        },
        "id": "P9iPv3G9ZwbK",
        "outputId": "d2bca1d3-f3ab-40d4-aa24-11f67f92e7cc"
      },
      "execution_count": 2,
      "outputs": [
        {
          "output_type": "stream",
          "name": "stdout",
          "text": [
            "{1, 2, 3, 'Ali', 22, 'a'}\n"
          ]
        }
      ]
    },
    {
      "cell_type": "code",
      "source": [
        "set2={2,'Ali',True,1}\n",
        "print(set2)"
      ],
      "metadata": {
        "colab": {
          "base_uri": "https://localhost:8080/"
        },
        "id": "1D1-s8_QZ6k3",
        "outputId": "54c00ec7-cf9f-4a2b-c837-a0f20e255025"
      },
      "execution_count": 5,
      "outputs": [
        {
          "output_type": "stream",
          "name": "stdout",
          "text": [
            "{True, 2, 'Ali'}\n"
          ]
        }
      ]
    },
    {
      "cell_type": "code",
      "source": [
        "set3={1,22,3,2,2,True,'a','Ali'}\n",
        "print(len(set3))\n",
        "# Add any element\n",
        "set3.add(5)\n",
        "print(set3)\n",
        "\n",
        "# remove any element\n",
        "set3.remove(2)\n",
        "print(set3)\n",
        "\n",
        "# discard(also remove element but if the element to be removed is not present then it will not throw exception but remove does throw exception)\n",
        "set3.discard(32)\n",
        "print(set3)\n",
        "\n",
        "# to remove all elements from set\n",
        "set3.clear()\n",
        "print(set3)"
      ],
      "metadata": {
        "colab": {
          "base_uri": "https://localhost:8080/"
        },
        "id": "xORwjL7uaROa",
        "outputId": "3928bdba-3344-463f-bed7-de6dc7444d66"
      },
      "execution_count": 16,
      "outputs": [
        {
          "output_type": "stream",
          "name": "stdout",
          "text": [
            "{1, 2, 3, 'Ali', 5, 22, 'a'}\n",
            "{1, 3, 'Ali', 5, 22, 'a'}\n",
            "{1, 3, 'Ali', 5, 22, 'a'}\n",
            "6\n",
            "set()\n"
          ]
        }
      ]
    },
    {
      "cell_type": "markdown",
      "source": [
        "We can add tuple to set but we can't add list because list elements are indexed and can be changed but tuple elements are immutable and set elements are also unchangeable."
      ],
      "metadata": {
        "id": "kQW6630ob1UB"
      }
    },
    {
      "cell_type": "code",
      "source": [
        "set4={1,4,'ali','b',4.5}\n",
        "set4.add((2,3,4)) # we can add tuple to set as well\n",
        "print(set4)"
      ],
      "metadata": {
        "colab": {
          "base_uri": "https://localhost:8080/"
        },
        "id": "NLR3ZbawbWRZ",
        "outputId": "e5f9f221-80eb-447d-f1cb-a972e793586f"
      },
      "execution_count": 19,
      "outputs": [
        {
          "output_type": "stream",
          "name": "stdout",
          "text": [
            "{1, 'ali', 4.5, 'b', 4, (2, 3, 4)}\n"
          ]
        }
      ]
    },
    {
      "cell_type": "markdown",
      "source": [
        "# HashSet"
      ],
      "metadata": {
        "id": "7bvJkme2ga7S"
      }
    },
    {
      "cell_type": "markdown",
      "source": [
        "1. Hash set donot contain duplicate elements.\n",
        "2. Hash set internally use the hash table data structure to store data items.\n",
        "3. Hash set is different from set as set is implemeted as hashset,list or tree."
      ],
      "metadata": {
        "id": "n_kkMmw8hc96"
      }
    },
    {
      "cell_type": "markdown",
      "source": [
        "TC=O(1) in AVG case but O(n) in worst case due to collision"
      ],
      "metadata": {
        "id": "yN2-f_zUiLxM"
      }
    },
    {
      "cell_type": "code",
      "source": [
        "class Hashset:\n",
        "  def __init__(self):\n",
        "    self.size=10\n",
        "    self.buckets=[[]for _ in range(self.size)]\n",
        "\n",
        "  def _hash(self,x):\n",
        "    return x%self.size\n",
        "\n",
        "  def add(self,x):\n",
        "    index=self._hash(x)\n",
        "    if x not in self.buckets[index]:\n",
        "      self.buckets[index].append(x)\n",
        "\n",
        "  def remove(self,x):\n",
        "    index=self._hash(x)\n",
        "    if x in self.buckets[index]:\n",
        "      self.buckets[index].remove(x)\n",
        "\n",
        "  def contains(self,x):\n",
        "    index=self._hash(x)\n",
        "    return x in self.buckets[index]\n",
        "\n",
        "  def __str__(self):\n",
        "    return str(self.buckets)\n",
        "\n",
        "  def display(self):\n",
        "    for i in range(self.size):\n",
        "      if self.buckets[i]:\n",
        "        print(self.buckets[i],end=' ')\n",
        "\n",
        "\n",
        "\n"
      ],
      "metadata": {
        "id": "UNdBYHX0X53v"
      },
      "execution_count": 27,
      "outputs": []
    },
    {
      "cell_type": "code",
      "source": [
        "set=Hashset()\n",
        "set.add(10)\n",
        "set.add(20)\n",
        "set.add(12)\n",
        "set.add(2)\n",
        "set.add(2)\n",
        "set.remove(10)\n",
        "set.add(3)\n",
        "print(set.display())"
      ],
      "metadata": {
        "colab": {
          "base_uri": "https://localhost:8080/"
        },
        "id": "Ye4JP3COmz62",
        "outputId": "0e253739-79a2-403d-c298-06bf1eecb678"
      },
      "execution_count": 30,
      "outputs": [
        {
          "output_type": "stream",
          "name": "stdout",
          "text": [
            "[20] [12, 2] [3] None\n"
          ]
        }
      ]
    },
    {
      "cell_type": "markdown",
      "source": [
        "# Hashmap"
      ],
      "metadata": {
        "id": "BJ502K1-esB-"
      }
    },
    {
      "cell_type": "markdown",
      "source": [
        "Hashmap is a data structure tha use hash table data structure to store key value pairs. It is also called dictionaries in python."
      ],
      "metadata": {
        "id": "OV452HIZe06k"
      }
    },
    {
      "cell_type": "markdown",
      "source": [
        "TC on avg is O(1) fro insertion,updation and deletion but in worst case it is O(n) due to collision"
      ],
      "metadata": {
        "id": "29lIMRMGnSr5"
      }
    },
    {
      "cell_type": "code",
      "source": [
        "class Hashmap:\n",
        "  def __init__(self):\n",
        "    self.size=10\n",
        "    self.buckets=[[] for _ in range(self.size)]\n",
        "\n",
        "  def _hash(self,key):\n",
        "    return key%self.size\n",
        "\n",
        "  def put(self,key,value):\n",
        "    idx=self._hash(key)\n",
        "    for i,(k,v) in enumerate(self.buckets[idx]):\n",
        "      if key==k:\n",
        "        self.buckets[idx][i]=(k,value)\n",
        "        return\n",
        "\n",
        "    self.buckets[idx].append((key,value))\n",
        "\n",
        "  def get(self,key):\n",
        "    idx=self._hash(key)\n",
        "    for i,(k,v) in enumerate(self.buckets[idx]):\n",
        "      if key==k:\n",
        "        return v\n",
        "    return -1\n",
        "\n",
        "  def remove(self,key):\n",
        "    idx=self._hash(key)\n",
        "    for i,(k,v) in enumerate(self.buckets[idx]):\n",
        "      if key==k:\n",
        "        del self.buckets[idx][i]\n",
        "        return\n",
        "    return -1\n",
        "\n",
        "  def display(self):\n",
        "    for i in range(self.size):\n",
        "      if self.buckets[i]:\n",
        "        print(self.buckets[i])"
      ],
      "metadata": {
        "id": "yp4nEqMhnHoJ"
      },
      "execution_count": 54,
      "outputs": []
    },
    {
      "cell_type": "code",
      "source": [
        "map1=Hashmap()\n",
        "map1.put(1,'ones')\n",
        "map1.put(2,'twos')\n",
        "map1.put(3,'threes')\n",
        "map1.put(4,'fours')\n",
        "map1.put(5,'fives')\n",
        "map1.put(55,'fives')\n",
        "map1.remove(2)\n",
        "print(map1.get(1))\n",
        "print(map1.display())"
      ],
      "metadata": {
        "colab": {
          "base_uri": "https://localhost:8080/"
        },
        "id": "ETVHj61vhqQp",
        "outputId": "8656cc00-04e6-4add-cd57-3ff44febed94"
      },
      "execution_count": 56,
      "outputs": [
        {
          "output_type": "stream",
          "name": "stdout",
          "text": [
            "ones\n",
            "[(1, 'ones')]\n",
            "[(3, 'threes')]\n",
            "[(4, 'fours')]\n",
            "[(5, 'fif'), (55, 'fives')]\n",
            "None\n"
          ]
        }
      ]
    },
    {
      "cell_type": "markdown",
      "source": [
        "# Linked List"
      ],
      "metadata": {
        "id": "dQPcORK2J0vQ"
      }
    },
    {
      "cell_type": "markdown",
      "source": [
        "1. Linked list is a linear data structure in python that consists of series of nodes connected by pointers in C/C++ or references in java/python/js.\n",
        "2. Each node consists of data and pointers/references to next node in a list.\n",
        "3. It is non-contiguous.\n"
      ],
      "metadata": {
        "id": "tzUhCiS5KW1V"
      }
    },
    {
      "cell_type": "code",
      "source": [
        "class Node:\n",
        "  def __init__(self,data):\n",
        "    self.data=data\n",
        "    self.next=None\n",
        "\n",
        "class LinkedList:\n",
        "  # Constructor\n",
        "  def __init__(self):\n",
        "    self.head=None\n",
        "\n",
        "  # Retrieving element from linked list\n",
        "  def traversal(self):\n",
        "    current=self.head\n",
        "    while current:\n",
        "      print(current.data,end=' ')\n",
        "      current=current.next\n",
        "    return\n",
        "  # Search any element in a list\n",
        "  def search(self,target):\n",
        "    curr=self.head\n",
        "    while curr:\n",
        "      if curr.data==target:\n",
        "        return True\n",
        "      curr=curr.next\n",
        "    return False\n",
        "\n",
        "  # No of elements in linked list\n",
        "  def len(self):\n",
        "    curr=self.head\n",
        "    length=0\n",
        "    while curr:\n",
        "      curr=curr.next\n",
        "      length+=1\n",
        "    return length\n",
        "\n",
        "  # Inserting node at the head of linked list\n",
        "  def insert_at_begin(self,key):\n",
        "    newNode=Node(key)\n",
        "    if not self.head:\n",
        "      self.head=newNode\n",
        "      return\n",
        "    newNode.next=self.head\n",
        "    self.head=newNode\n",
        "\n",
        "  # Inserting node at the last of linked list\n",
        "  def insert_at_last(self,key):\n",
        "    newNode=Node(key)\n",
        "    if not self.head:\n",
        "      self.head=newNode\n",
        "      return\n",
        "\n",
        "    curr=self.head\n",
        "    while curr.next:\n",
        "      curr=curr.next\n",
        "    curr.next=newNode\n",
        "\n",
        "  # Inserting node at specific position\n",
        "  def insert_at_pos(self,key,pos):\n",
        "\n",
        "    newNode=Node(key)\n",
        "    if not self.head:\n",
        "      self.head=newNode\n",
        "      return\n",
        "    curr=self.head\n",
        "    count=0\n",
        "\n",
        "    if pos==1:\n",
        "      newNode.next=self.head\n",
        "      self.head=newNode\n",
        "      return\n",
        "\n",
        "    while curr:\n",
        "      count+=1\n",
        "      if count==pos-1:\n",
        "        temp=curr.next\n",
        "        curr.next=newNode\n",
        "        newNode.next=temp\n",
        "        return\n",
        "      curr=curr.next\n",
        "\n",
        "    return -1\n",
        "\n",
        "  # Deleting node at the head of linked list\n",
        "  def delete_at_begin(self):\n",
        "    if self.head:\n",
        "      self.head=self.head.next\n",
        "    return\n",
        "\n",
        "  # Deleting node at the last of linked list\n",
        "  def delete_at_last(self):\n",
        "    if self.head is None or self.head.next is None:\n",
        "      self.head=None\n",
        "      return\n",
        "    curr=self.head\n",
        "    while curr.next.next:\n",
        "      curr=curr.next\n",
        "\n",
        "    curr.next=None\n",
        "\n",
        "\n",
        "  # Deleting node at specific position\n",
        "  def delete_at_pos(self,pos):\n",
        "    if pos<1:\n",
        "      return -1\n",
        "\n",
        "    if pos==1:\n",
        "      self.head=self.head.next\n",
        "      return\n",
        "\n",
        "    curr=self.head\n",
        "    count=0\n",
        "\n",
        "    while curr:\n",
        "      count+=1\n",
        "      if count==pos-1:\n",
        "        temp=curr.next.next\n",
        "        curr.next=temp\n",
        "        return\n",
        "      curr=curr.next\n",
        "    return -1\n",
        "\n",
        "  def reverse(self):\n",
        "    prev=None\n",
        "    curr=self.head\n",
        "\n",
        "\n",
        "    while curr:\n",
        "      next_node=curr.next\n",
        "      curr.next=prev\n",
        "      prev=curr\n",
        "      curr=next_node\n",
        "\n",
        "    self.head=prev\n",
        "    return\n",
        "\n",
        "\n",
        "\n"
      ],
      "metadata": {
        "id": "i45JolG6mDAU"
      },
      "execution_count": 61,
      "outputs": []
    },
    {
      "cell_type": "code",
      "source": [
        "# Creating a linked list\n",
        "ll=LinkedList()\n",
        "\n",
        "# Insertion of data in linked list\n",
        "ll.insert_at_begin(10)\n",
        "ll.insert_at_last(20)\n",
        "ll.insert_at_pos(30,1)\n",
        "ll.insert_at_pos(40,2)\n",
        "ll.insert_at_pos(50,3)\n",
        "ll.insert_at_last(60)\n",
        "\n",
        "ll.traversal()\n",
        "print('\\n')\n",
        "print(f'Total elements in linked list are {ll.len()}')\n",
        "\n",
        "# Reverse a linked list\n",
        "print('After Reversing the linked list')\n",
        "ll.reverse()\n",
        "\n",
        "ll.traversal()\n",
        "print('\\n')\n",
        "\n",
        "# Deleting any node\n",
        "ll.delete_at_begin()\n",
        "ll.delete_at_last()\n",
        "ll.delete_at_pos(4)\n",
        "\n",
        "print(ll.search(10))\n",
        "\n",
        "ll.traversal()\n",
        "print('\\n')\n",
        "print(f'Total elements in linked list are {ll.len()}')\n"
      ],
      "metadata": {
        "colab": {
          "base_uri": "https://localhost:8080/"
        },
        "id": "vG3J8-LKT0Ri",
        "outputId": "efaf0bd2-f0ec-40f3-fc9c-9c79c3a414ba"
      },
      "execution_count": 65,
      "outputs": [
        {
          "output_type": "stream",
          "name": "stdout",
          "text": [
            "30 40 50 10 20 60 \n",
            "\n",
            "Total elements in linked list are 6\n",
            "After Reversing the linked list\n",
            "60 20 10 50 40 30 \n",
            "\n",
            "True\n",
            "20 10 50 \n",
            "\n",
            "Total elements in linked list are 3\n"
          ]
        }
      ]
    },
    {
      "cell_type": "code",
      "source": [],
      "metadata": {
        "id": "dwsJBycCdvf7"
      },
      "execution_count": 65,
      "outputs": []
    }
  ]
}