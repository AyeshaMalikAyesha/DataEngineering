{
  "nbformat": 4,
  "nbformat_minor": 0,
  "metadata": {
    "colab": {
      "provenance": [],
      "authorship_tag": "ABX9TyNSGfKUBQ+xfuMYa/EvvBjU",
      "include_colab_link": true
    },
    "kernelspec": {
      "name": "python3",
      "display_name": "Python 3"
    },
    "language_info": {
      "name": "python"
    }
  },
  "cells": [
    {
      "cell_type": "markdown",
      "metadata": {
        "id": "view-in-github",
        "colab_type": "text"
      },
      "source": [
        "<a href=\"https://colab.research.google.com/github/AyeshaMalikAyesha/DataEngineering/blob/main/DataStructuresAndAlgorithms.ipynb\" target=\"_parent\"><img src=\"https://colab.research.google.com/assets/colab-badge.svg\" alt=\"Open In Colab\"/></a>"
      ]
    },
    {
      "cell_type": "markdown",
      "source": [
        "# Data Structures and Algorithms\n",
        "\n"
      ],
      "metadata": {
        "id": "rx9fjg7SVkvR"
      }
    },
    {
      "cell_type": "markdown",
      "source": [
        "Data structure is a way to organize data and Algorithms are set of rules that can be converted into code and executed by compiler on different inputs."
      ],
      "metadata": {
        "id": "fjo2D-PXVshK"
      }
    },
    {
      "cell_type": "markdown",
      "source": [
        "SELF represents instance of class. It is used to access the attributes and methods of class."
      ],
      "metadata": {
        "id": "bUn1m5aEVwg2"
      }
    },
    {
      "cell_type": "markdown",
      "source": [
        "str and repr both are string representation of objects but str is more readable and is for users but repr is for developers and is more detailed."
      ],
      "metadata": {
        "id": "x6fCwDgbVzMk"
      }
    },
    {
      "cell_type": "code",
      "source": [
        "class Student:\n",
        "    uniName='RIPHAH' # class variable is shared across all instance of the class\n",
        "    # Constructor\n",
        "    def __init__(self,sapId,name):\n",
        "        self.sapId=sapId\n",
        "        self.name=name\n",
        "    def __str__(self):\n",
        "        return self.__repr__()\n",
        "    def __repr__(self):\n",
        "        return f'Name:{self.name} ,ID:{self.sapId}, Uni Name:{self.uniName}'\n",
        "std1=Student(24764,'Ayesha')\n",
        "std1"
      ],
      "metadata": {
        "colab": {
          "base_uri": "https://localhost:8080/"
        },
        "id": "JctFNX2TVoR_",
        "outputId": "72b84c7e-3e69-4e38-936b-db8eac073269"
      },
      "execution_count": 1,
      "outputs": [
        {
          "output_type": "execute_result",
          "data": {
            "text/plain": [
              "Name:Ayesha ,ID:24764, Uni Name:RIPHAH"
            ]
          },
          "metadata": {},
          "execution_count": 1
        }
      ]
    },
    {
      "cell_type": "markdown",
      "source": [
        "# Linear Search Algorithm O(n)"
      ],
      "metadata": {
        "id": "GlR7Vk2dWA9X"
      }
    },
    {
      "cell_type": "code",
      "source": [
        "def linear_search(arr,target):\n",
        "    for i in range(len(arr)):\n",
        "        if arr[i]==target:\n",
        "            return i\n",
        "    return -1\n",
        "\n",
        "arr=[1,2,3,4,5,6,7,8,90,45]\n",
        "linear_search(arr,5)\n",
        "\n"
      ],
      "metadata": {
        "colab": {
          "base_uri": "https://localhost:8080/"
        },
        "id": "C-yKN8IKV6zW",
        "outputId": "f0764e23-649f-4f04-fc2b-10b32a5ba77a"
      },
      "execution_count": 2,
      "outputs": [
        {
          "output_type": "execute_result",
          "data": {
            "text/plain": [
              "4"
            ]
          },
          "metadata": {},
          "execution_count": 2
        }
      ]
    },
    {
      "cell_type": "markdown",
      "source": [
        "# Binary Search Algorithm TC=O(logn)"
      ],
      "metadata": {
        "id": "Q4YvBM1MWXPX"
      }
    },
    {
      "cell_type": "code",
      "source": [
        "def binary_search(arr,target):\n",
        "    l,h=0,len(arr)-1\n",
        "    while l<=h:\n",
        "        mid=(l+h)//2\n",
        "        if arr[mid]==target:\n",
        "            return mid\n",
        "        elif target>arr[mid]:\n",
        "            l=mid+1\n",
        "        else:\n",
        "            h=mid-1\n",
        "    return arr\n",
        "arr=[1,2,3,4,5,6,7,8,9]\n",
        "binary_search(arr,5)"
      ],
      "metadata": {
        "colab": {
          "base_uri": "https://localhost:8080/"
        },
        "id": "Oczt56XAWJBP",
        "outputId": "ceae1f0b-e181-43f3-845f-ec639826603e"
      },
      "execution_count": 3,
      "outputs": [
        {
          "output_type": "execute_result",
          "data": {
            "text/plain": [
              "4"
            ]
          },
          "metadata": {},
          "execution_count": 3
        }
      ]
    },
    {
      "cell_type": "markdown",
      "source": [
        "**Find first occurance of target using binary search**"
      ],
      "metadata": {
        "id": "zesAT9nTWmy3"
      }
    },
    {
      "cell_type": "code",
      "source": [
        "def binary_search(arr,target):\n",
        "    l,h=0,len(arr)-1\n",
        "    while l<=h:\n",
        "        mid=(l+h)//2\n",
        "        if target==arr[mid]:\n",
        "            if mid>0 and arr[mid-1]==target:\n",
        "                h=mid-1\n",
        "            else:\n",
        "                return mid\n",
        "        elif target>arr[mid]:\n",
        "            l=mid+1\n",
        "        else:\n",
        "            h=mid-1\n",
        "    return -1\n",
        "binary_search([1,2,2,3,4],2)"
      ],
      "metadata": {
        "colab": {
          "base_uri": "https://localhost:8080/"
        },
        "id": "ZsMQ0IGEWjCj",
        "outputId": "4fa7ac1e-e44b-433d-bff7-6b25156cb87f"
      },
      "execution_count": 4,
      "outputs": [
        {
          "output_type": "execute_result",
          "data": {
            "text/plain": [
              "1"
            ]
          },
          "metadata": {},
          "execution_count": 4
        }
      ]
    },
    {
      "cell_type": "markdown",
      "source": [
        "# Rotated List"
      ],
      "metadata": {
        "id": "wsunROuOWylv"
      }
    },
    {
      "cell_type": "markdown",
      "source": [
        "We have to find out that how many times the sorted list has been rotated?"
      ],
      "metadata": {
        "id": "i8cj1pYcW21J"
      }
    },
    {
      "cell_type": "code",
      "source": [
        "def linear_search(arr):\n",
        "    for i in range(len(arr)):\n",
        "        if arr[i]<arr[len(arr)-1]:\n",
        "            return i\n",
        "    return 0\n",
        "linear_search([4,5,6,7,8,9,1,2,3])"
      ],
      "metadata": {
        "colab": {
          "base_uri": "https://localhost:8080/"
        },
        "id": "C2QcSqylWtZ0",
        "outputId": "d163d8d1-bfc1-4e6c-c024-c0abcb1d0924"
      },
      "execution_count": 5,
      "outputs": [
        {
          "output_type": "execute_result",
          "data": {
            "text/plain": [
              "6"
            ]
          },
          "metadata": {},
          "execution_count": 5
        }
      ]
    },
    {
      "cell_type": "code",
      "source": [
        "def binary_search(arr):\n",
        "    l,h=0,len(arr)-1\n",
        "    while l<=h:\n",
        "        mid=(l+h)//2\n",
        "        if mid>0 and arr[mid]<arr[mid-1]:\n",
        "            return mid\n",
        "        elif mid<len(arr)-1 and arr[mid]>arr[mid+1]:\n",
        "            return mid+1\n",
        "        elif arr[mid]>arr[h]:\n",
        "            l=mid+1\n",
        "        else:\n",
        "            h=mid-1\n",
        "    return 0\n",
        "binary_search([4,5,6,1,2,3])"
      ],
      "metadata": {
        "colab": {
          "base_uri": "https://localhost:8080/"
        },
        "id": "uiGOplh7W5yQ",
        "outputId": "b2c2cccd-9ba9-4765-b76b-f0b168385e5f"
      },
      "execution_count": 6,
      "outputs": [
        {
          "output_type": "execute_result",
          "data": {
            "text/plain": [
              "3"
            ]
          },
          "metadata": {},
          "execution_count": 6
        }
      ]
    },
    {
      "cell_type": "markdown",
      "source": [
        "# Sorting"
      ],
      "metadata": {
        "id": "AFUuI2xUDdWU"
      }
    },
    {
      "cell_type": "markdown",
      "source": [
        "**Bubble Sort**"
      ],
      "metadata": {
        "id": "PaEtlInIDfsG"
      }
    },
    {
      "cell_type": "markdown",
      "source": [
        "**Bubble Sort Algorithm**\n",
        "\n",
        "1. Go through each element of array.\n",
        "2. Compare the two consecutive elements, and place the largest element at the right side.\n",
        "3. Go through the array as many times as one less the number of elements in array(n-1)."
      ],
      "metadata": {
        "id": "ixg9N-PoDkwG"
      }
    },
    {
      "cell_type": "markdown",
      "source": [
        "1. Time Complexity=O(n^2) Where n is the length of array\n",
        "2. Space Complexity=O(1) as no extra space is required to sort the array."
      ],
      "metadata": {
        "id": "T9Ljk7fyDwCD"
      }
    },
    {
      "cell_type": "code",
      "source": [
        "def bubble_sort(arr):\n",
        "    n=len(arr)\n",
        "    for i in range(n-1):\n",
        "        for j in range(n-i-1):\n",
        "            if arr[j]>arr[j+1]:\n",
        "                arr[j],arr[j+1]=arr[j+1],arr[j]\n",
        "    return arr\n",
        "bubble_sort([9,10,2,3,1])"
      ],
      "metadata": {
        "id": "tQK2DoAsW8XD",
        "colab": {
          "base_uri": "https://localhost:8080/"
        },
        "outputId": "f74c33d5-4dee-4dce-cbb0-4df3a5749f16"
      },
      "execution_count": 7,
      "outputs": [
        {
          "output_type": "execute_result",
          "data": {
            "text/plain": [
              "[1, 2, 3, 9, 10]"
            ]
          },
          "metadata": {},
          "execution_count": 7
        }
      ]
    },
    {
      "cell_type": "markdown",
      "source": [
        "# Selection Sort"
      ],
      "metadata": {
        "id": "Po6JfAGHDqTp"
      }
    },
    {
      "cell_type": "markdown",
      "source": [
        "1. Go through every element of list to find the lowest element.\n",
        "2. Move the lowest element to front unsorted part of array.\n",
        "3. Repeat the above steps as many times as 1 less the number of elements in the list."
      ],
      "metadata": {
        "id": "tFh3H7wCDsuJ"
      }
    },
    {
      "cell_type": "markdown",
      "source": [
        "TC=O(N^2) AND SC=O(1)"
      ],
      "metadata": {
        "id": "Z5fzTaPGD1Cr"
      }
    },
    {
      "cell_type": "code",
      "source": [
        "def selection_sort(arr):\n",
        "    n=len(arr)\n",
        "    for i in range(n-1):\n",
        "        min=i\n",
        "        for j in range(i+1,n):\n",
        "            if arr[min]>arr[j]:\n",
        "                min=j\n",
        "        arr[min],arr[i]=arr[i],arr[min]\n",
        "    return arr\n",
        "selection_sort([2,5,3,1])"
      ],
      "metadata": {
        "id": "H8QtPwsAD1ve",
        "colab": {
          "base_uri": "https://localhost:8080/"
        },
        "outputId": "c495cb45-c15c-4faa-ff9a-156d8064a68d"
      },
      "execution_count": 8,
      "outputs": [
        {
          "output_type": "execute_result",
          "data": {
            "text/plain": [
              "[1, 2, 3, 5]"
            ]
          },
          "metadata": {},
          "execution_count": 8
        }
      ]
    },
    {
      "cell_type": "markdown",
      "source": [
        "# Insertion Sort"
      ],
      "metadata": {
        "id": "_pn8YF524ObY"
      }
    },
    {
      "cell_type": "markdown",
      "source": [
        "1. Start with second element as first element is assumed to be sorted.\n",
        "2. Compare second element with first element and swap if second element is less than first element.\n",
        "3. Now compare third element with second and then first element and insert it at the right position of the sorted list.\n",
        "4. Repeat the steps until the entire array is sorted."
      ],
      "metadata": {
        "id": "rU0iotZW4Q3y"
      }
    },
    {
      "cell_type": "markdown",
      "source": [
        "TC=O(n^2),SC=O(1)"
      ],
      "metadata": {
        "id": "Muwp2NHj4cPI"
      }
    },
    {
      "cell_type": "code",
      "source": [
        "def insertion_sort(arr):\n",
        "    n=len(arr)\n",
        "    for i in range(1,n):\n",
        "        temp=arr[i]\n",
        "        j=i\n",
        "        while (j>0) and (temp<arr[j]):\n",
        "            arr[j]=arr[j-1]\n",
        "            j-=1\n",
        "        arr[j]=temp\n",
        "    return arr\n",
        "insertion_sort([2,5,3,1])"
      ],
      "metadata": {
        "colab": {
          "base_uri": "https://localhost:8080/"
        },
        "id": "CsNVxCIZX3Lu",
        "outputId": "c78f5c59-732c-4c2e-bef6-58cc30f8b287"
      },
      "execution_count": 15,
      "outputs": [
        {
          "output_type": "execute_result",
          "data": {
            "text/plain": [
              "[1, 2, 3, 5]"
            ]
          },
          "metadata": {},
          "execution_count": 15
        }
      ]
    },
    {
      "cell_type": "code",
      "source": [],
      "metadata": {
        "id": "UNdBYHX0X53v"
      },
      "execution_count": null,
      "outputs": []
    }
  ]
}